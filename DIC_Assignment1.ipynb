{
  "nbformat": 4,
  "nbformat_minor": 0,
  "metadata": {
    "colab": {
      "name": "DIC Assignment1.ipynb",
      "provenance": [],
      "collapsed_sections": [],
      "authorship_tag": "ABX9TyO8BoNKKBOMbVMoadN8HmrJ",
      "include_colab_link": true
    },
    "kernelspec": {
      "name": "python3",
      "display_name": "Python 3"
    }
  },
  "cells": [
    {
      "cell_type": "markdown",
      "metadata": {
        "id": "view-in-github",
        "colab_type": "text"
      },
      "source": [
        "<a href=\"https://colab.research.google.com/github/aditya0335/DIC-Assignment1/blob/master/DIC_Assignment1.ipynb\" target=\"_parent\"><img src=\"https://colab.research.google.com/assets/colab-badge.svg\" alt=\"Open In Colab\"/></a>"
      ]
    },
    {
      "cell_type": "code",
      "metadata": {
        "id": "COsvtxGFf9lW",
        "colab_type": "code",
        "colab": {
          "base_uri": "https://localhost:8080/",
          "height": 122
        },
        "outputId": "059cda64-beb6-40d6-caf6-c5e9d12f6d71"
      },
      "source": [
        "from google.colab import drive\n",
        "drive.mount('/content/drive')"
      ],
      "execution_count": 1,
      "outputs": [
        {
          "output_type": "stream",
          "text": [
            "Go to this URL in a browser: https://accounts.google.com/o/oauth2/auth?client_id=947318989803-6bn6qk8qdgf4n4g3pfee6491hc0brc4i.apps.googleusercontent.com&redirect_uri=urn%3aietf%3awg%3aoauth%3a2.0%3aoob&response_type=code&scope=email%20https%3a%2f%2fwww.googleapis.com%2fauth%2fdocs.test%20https%3a%2f%2fwww.googleapis.com%2fauth%2fdrive%20https%3a%2f%2fwww.googleapis.com%2fauth%2fdrive.photos.readonly%20https%3a%2f%2fwww.googleapis.com%2fauth%2fpeopleapi.readonly\n",
            "\n",
            "Enter your authorization code:\n",
            "··········\n",
            "Mounted at /content/drive\n"
          ],
          "name": "stdout"
        }
      ]
    },
    {
      "cell_type": "code",
      "metadata": {
        "id": "LaiPWQdvUfwo",
        "colab_type": "code",
        "colab": {}
      },
      "source": [
        "!git remote add origin https://github.com/aditya0335/DIC-Assignment1"
      ],
      "execution_count": 0,
      "outputs": []
    },
    {
      "cell_type": "markdown",
      "metadata": {
        "id": "gJ0Ms-UiTExh",
        "colab_type": "text"
      },
      "source": [
        "Drive-bansaladitya0335@gmail.com"
      ]
    },
    {
      "cell_type": "code",
      "metadata": {
        "id": "GHp6bw2Zj0c3",
        "colab_type": "code",
        "colab": {}
      },
      "source": [
        "import os\n",
        "import pandas as pd\n",
        "os.chdir('/content/drive/My Drive/DIC ASSIGNMENT 1')\n",
        "data=pd.read_csv('data.csv')"
      ],
      "execution_count": 0,
      "outputs": []
    },
    {
      "cell_type": "code",
      "metadata": {
        "id": "60-odLEYS2EW",
        "colab_type": "code",
        "colab": {}
      },
      "source": [
        "import numpy as np\n",
        "import matplotlib.pyplot as plt"
      ],
      "execution_count": 0,
      "outputs": []
    },
    {
      "cell_type": "code",
      "metadata": {
        "id": "fYtKaR4fRzLk",
        "colab_type": "code",
        "colab": {}
      },
      "source": [
        "# -*- coding: utf-8 -*-\n",
        "\"\"\"\n",
        "Predicitve_Analytics.py\n",
        "\"\"\"\n",
        "\n",
        "\n",
        "def Accuracy(y_true,y_pred):\n",
        "    \"\"\"\n",
        "    :type y_true: numpy.ndarray\n",
        "    :type y_pred: numpy.ndarray\n",
        "    :rtype: float\n",
        "    \n",
        "    \"\"\""
      ],
      "execution_count": 0,
      "outputs": []
    },
    {
      "cell_type": "code",
      "metadata": {
        "id": "U2gCHJ9ESLfo",
        "colab_type": "code",
        "colab": {}
      },
      "source": [
        "def Recall(y_true,y_pred):\n",
        "     \"\"\"\n",
        "    :type y_true: numpy.ndarray\n",
        "    :type y_pred: numpy.ndarray\n",
        "    :rtype: float\n",
        "    \"\"\"\n",
        "\n"
      ],
      "execution_count": 0,
      "outputs": []
    },
    {
      "cell_type": "code",
      "metadata": {
        "id": "ZGaokWloRzbM",
        "colab_type": "code",
        "colab": {}
      },
      "source": [
        "def Precision(y_true,y_pred):\n",
        "    \"\"\"\n",
        "    :type y_true: numpy.ndarray\n",
        "    :type y_pred: numpy.ndarray\n",
        "    :rtype: float\n",
        "    \"\"\"\n"
      ],
      "execution_count": 0,
      "outputs": []
    },
    {
      "cell_type": "code",
      "metadata": {
        "id": "dvl9L94WRzlV",
        "colab_type": "code",
        "colab": {}
      },
      "source": [
        "def WCSS(Clusters):\n",
        "    \"\"\"\n",
        "    :Clusters List[numpy.ndarray]\n",
        "    :rtype: float\n",
        "    \"\"\""
      ],
      "execution_count": 0,
      "outputs": []
    },
    {
      "cell_type": "code",
      "metadata": {
        "id": "72Iq823RShJf",
        "colab_type": "code",
        "colab": {}
      },
      "source": [
        "def ConfusionMatrix(y_true,y_pred):\n",
        "    \n",
        "    \"\"\"\n",
        "    :type y_true: numpy.ndarray\n",
        "    :type y_pred: numpy.ndarray\n",
        "    :rtype: float\n",
        "    \"\"\" "
      ],
      "execution_count": 0,
      "outputs": []
    },
    {
      "cell_type": "code",
      "metadata": {
        "id": "5gkistyrShNB",
        "colab_type": "code",
        "colab": {}
      },
      "source": [
        "def KNN(X_train,X_test,Y_train):\n",
        "     \"\"\"\n",
        "    :type X_train: numpy.ndarray\n",
        "    :type X_test: numpy.ndarray\n",
        "    :type Y_train: numpy.ndarray\n",
        "    \n",
        "    :rtype: numpy.ndarray\n",
        "    \"\"\"\n"
      ],
      "execution_count": 0,
      "outputs": []
    },
    {
      "cell_type": "code",
      "metadata": {
        "id": "xjXTUX5-ShQF",
        "colab_type": "code",
        "colab": {}
      },
      "source": [
        "def RandomForest(X_train,Y_train,X_test):\n",
        "    \"\"\"\n",
        "    :type X_train: numpy.ndarray\n",
        "    :type X_test: numpy.ndarray\n",
        "    :type Y_train: numpy.ndarray\n",
        "    \n",
        "    :rtype: numpy.ndarray\n",
        "    \"\"\""
      ],
      "execution_count": 0,
      "outputs": []
    },
    {
      "cell_type": "code",
      "metadata": {
        "id": "C1sd3ZLUShS-",
        "colab_type": "code",
        "colab": {}
      },
      "source": [
        "def PCA(X_train,N):\n",
        "    \"\"\"\n",
        "    :type X_train: numpy.ndarray\n",
        "    :type N: int\n",
        "    :rtype: numpy.ndarray\n",
        "    \"\"\""
      ],
      "execution_count": 0,
      "outputs": []
    },
    {
      "cell_type": "code",
      "metadata": {
        "id": "xWghtJJzShVo",
        "colab_type": "code",
        "colab": {}
      },
      "source": [
        "def Kmeans(X_train,N):\n",
        "    \"\"\"\n",
        "    :type X_train: numpy.ndarray\n",
        "    :type N: int\n",
        "    :rtype: List[numpy.ndarray]\n",
        "    \"\"\""
      ],
      "execution_count": 0,
      "outputs": []
    },
    {
      "cell_type": "code",
      "metadata": {
        "id": "2rBr8-KCRzt2",
        "colab_type": "code",
        "colab": {}
      },
      "source": [
        "def SklearnSupervisedLearning(X_train,Y_train,X_test):\n",
        "    \"\"\"\n",
        "    :type X_train: numpy.ndarray\n",
        "    :type X_test: numpy.ndarray\n",
        "    :type Y_train: numpy.ndarray\n",
        "    \n",
        "    :rtype: List[numpy.ndarray] \n",
        "    \"\"\""
      ],
      "execution_count": 0,
      "outputs": []
    },
    {
      "cell_type": "code",
      "metadata": {
        "id": "N4qkwUAORz2W",
        "colab_type": "code",
        "colab": {}
      },
      "source": [
        "def SklearnVotingClassifier(X_train,Y_train,X_test):\n",
        "    \n",
        "    \"\"\"\n",
        "    :type X_train: numpy.ndarray\n",
        "    :type X_test: numpy.ndarray\n",
        "    :type Y_train: numpy.ndarray\n",
        "    \n",
        "    :rtype: List[numpy.ndarray] \n",
        "    \"\"\"\n",
        "\n",
        "\n",
        "\"\"\"\n",
        "Create your own custom functions for Matplotlib visualization of hyperparameter search. \n",
        "Make sure that plots are labeled and proper legends are used\n",
        "\"\"\""
      ],
      "execution_count": 0,
      "outputs": []
    }
  ]
}