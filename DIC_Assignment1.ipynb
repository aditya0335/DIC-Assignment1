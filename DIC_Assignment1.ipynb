{
  "nbformat": 4,
  "nbformat_minor": 0,
  "metadata": {
    "colab": {
      "name": "DIC Assignment1.ipynb",
      "provenance": [],
      "collapsed_sections": [],
      "machine_shape": "hm",
      "include_colab_link": true
    },
    "kernelspec": {
      "name": "python3",
      "display_name": "Python 3"
    },
    "accelerator": "GPU"
  },
  "cells": [
    {
      "cell_type": "markdown",
      "metadata": {
        "id": "view-in-github",
        "colab_type": "text"
      },
      "source": [
        "<a href=\"https://colab.research.google.com/github/aditya0335/DIC-Assignment1/blob/master/DIC_Assignment1.ipynb\" target=\"_parent\"><img src=\"https://colab.research.google.com/assets/colab-badge.svg\" alt=\"Open In Colab\"/></a>"
      ]
    },
    {
      "cell_type": "code",
      "metadata": {
        "id": "COsvtxGFf9lW",
        "colab_type": "code",
        "outputId": "da336f05-00ae-415d-b6a8-487ca5b68d07",
        "colab": {
          "base_uri": "https://localhost:8080/",
          "height": 122
        }
      },
      "source": [
        "from google.colab import drive\n",
        "drive.mount('/content/drive')"
      ],
      "execution_count": 7,
      "outputs": [
        {
          "output_type": "stream",
          "text": [
            "Go to this URL in a browser: https://accounts.google.com/o/oauth2/auth?client_id=947318989803-6bn6qk8qdgf4n4g3pfee6491hc0brc4i.apps.googleusercontent.com&redirect_uri=urn%3aietf%3awg%3aoauth%3a2.0%3aoob&response_type=code&scope=email%20https%3a%2f%2fwww.googleapis.com%2fauth%2fdocs.test%20https%3a%2f%2fwww.googleapis.com%2fauth%2fdrive%20https%3a%2f%2fwww.googleapis.com%2fauth%2fdrive.photos.readonly%20https%3a%2f%2fwww.googleapis.com%2fauth%2fpeopleapi.readonly\n",
            "\n",
            "Enter your authorization code:\n",
            "··········\n",
            "Mounted at /content/drive\n"
          ],
          "name": "stdout"
        }
      ]
    },
    {
      "cell_type": "code",
      "metadata": {
        "id": "LaiPWQdvUfwo",
        "colab_type": "code",
        "outputId": "5c5c2386-7348-4f00-c553-354cbc122fcf",
        "colab": {
          "base_uri": "https://localhost:8080/",
          "height": 221
        }
      },
      "source": [
        ""
      ],
      "execution_count": 0,
      "outputs": [
        {
          "output_type": "stream",
          "text": [
            "\n",
            "*** Please tell me who you are.\n",
            "\n",
            "Run\n",
            "\n",
            "  git config --global user.email \"you@example.com\"\n",
            "  git config --global user.name \"Your Name\"\n",
            "\n",
            "to set your account's default identity.\n",
            "Omit --global to set the identity only in this repository.\n",
            "\n",
            "fatal: unable to auto-detect email address (got 'root@c177635e71d9.(none)')\n"
          ],
          "name": "stdout"
        }
      ]
    },
    {
      "cell_type": "markdown",
      "metadata": {
        "id": "gJ0Ms-UiTExh",
        "colab_type": "text"
      },
      "source": [
        "Drive-bansaladitya0335@gmail.com"
      ]
    },
    {
      "cell_type": "code",
      "metadata": {
        "id": "GHp6bw2Zj0c3",
        "colab_type": "code",
        "colab": {}
      },
      "source": [
        "import os\n",
        "import pandas as pd\n",
        "from sklearn.model_selection import train_test_split\n",
        "os.chdir('/content/drive/My Drive/DIC ASSIGNMENT 1')\n",
        "data=pd.read_csv('data.csv')\n",
        "features=data.iloc[:,0:48]\n",
        "labels=data.iloc[:,48]\n",
        "features_train,features_test,labels_train,labels_test=train_test_split(features,labels,test_size=0.2)"
      ],
      "execution_count": 0,
      "outputs": []
    },
    {
      "cell_type": "code",
      "metadata": {
        "id": "2vQlIlK_wh1s",
        "colab_type": "code",
        "outputId": "11842e1e-3ddb-4291-8c2d-cc90497c1f62",
        "colab": {
          "base_uri": "https://localhost:8080/",
          "height": 51
        }
      },
      "source": [
        "!git clone https://github.com/Deepesh7/Predictive-Analysis.git"
      ],
      "execution_count": 0,
      "outputs": [
        {
          "output_type": "stream",
          "text": [
            "Cloning into 'Predictive-Analysis'...\n",
            "fatal: could not read Username for 'https://github.com': No such device or address\n"
          ],
          "name": "stdout"
        }
      ]
    },
    {
      "cell_type": "code",
      "metadata": {
        "id": "60-odLEYS2EW",
        "colab_type": "code",
        "colab": {}
      },
      "source": [
        "import numpy as np\n",
        "import matplotlib.pyplot as plt\n",
        "from sklearn.metrics import classification_report \n",
        "from sklearn import preprocessing\n",
        "from sklearn.preprocessing import scale\n",
        "from sklearn.preprocessing import MinMaxScaler\n"
      ],
      "execution_count": 0,
      "outputs": []
    },
    {
      "cell_type": "code",
      "metadata": {
        "id": "17CW12tdSnHf",
        "colab_type": "code",
        "outputId": "0d44077e-0795-4a12-bc5f-368515a5ec38",
        "colab": {
          "base_uri": "https://localhost:8080/",
          "height": 68
        }
      },
      "source": [
        "features=np.asarray(features)\n",
        "features_train=np.asarray(features_train)\n",
        "features_test=np.asarray(features_test)\n",
        "labels_train=np.asarray(labels_train)\n",
        "labels_test=np.asarray(labels_test)\n",
        "print(features_test.shape)\n",
        "print(features_train.shape)\n",
        "\n",
        "row=features_train[:1,]\n",
        "print(row.shape)\n",
        "scaler = MinMaxScaler()\n",
        "features_train=scaler.fit_transform(features_train)\n",
        "features_test=scaler.transform(features_test)\n"
      ],
      "execution_count": 4,
      "outputs": [
        {
          "output_type": "stream",
          "text": [
            "(8192, 48)\n",
            "(32764, 48)\n",
            "(1, 48)\n"
          ],
          "name": "stdout"
        }
      ]
    },
    {
      "cell_type": "code",
      "metadata": {
        "id": "RfdRXKD1eD-E",
        "colab_type": "code",
        "colab": {}
      },
      "source": [
        "def KNN(X_train,X_test,Y_train):\n",
        " \n",
        "  testresult=[]\n",
        "  k_value=50\n",
        "  b=0\n",
        "  testresult_test=[]\n",
        "  for row in X_test:\n",
        "    distance=[]\n",
        "    knn = []\n",
        "    row=np.asarray(row)\n",
        "    row=row.reshape(1,48)\n",
        "    \n",
        "    distance=np.sqrt(np.sum(np.square((np.subtract(np.repeat(row,32764,0),X_train))),axis=1))\n",
        "    distance=distance.reshape(32764,1)\n",
        "    Y_train=Y_train.reshape(32764,1)\n",
        "    distance_Y_train=np.concatenate((Y_train,distance),axis=1)\n",
        "    distance_Y_train =  distance_Y_train[np.argsort(distance_Y_train[:, 1])]    \n",
        "    knn = distance_Y_train[:k_value]\n",
        "    knn=knn[:,0]\n",
        "    knn=knn.astype(int)\n",
        "    testresult_test=np.append(testresult_test,np.bincount(knn).argmax())\n",
        "  return testresult_test\n",
        "result=KNN(features_train,features_test,labels_train)\n"
      ],
      "execution_count": 0,
      "outputs": []
    },
    {
      "cell_type": "code",
      "metadata": {
        "id": "kKAmY27E1uoU",
        "colab_type": "code",
        "outputId": "64cfe187-f10d-4fdd-ccd2-11da0f96f31a",
        "colab": {
          "base_uri": "https://localhost:8080/",
          "height": 34
        }
      },
      "source": [
        "# from sklearn.metrics import accuracy_score\n",
        "# from sklearn.neighbors import KNeighborsClassifier\n",
        "\n",
        "# print(accuracy_score(labels_test,result))\n"
      ],
      "execution_count": 0,
      "outputs": [
        {
          "output_type": "stream",
          "text": [
            "0.978271484375\n"
          ],
          "name": "stdout"
        }
      ]
    },
    {
      "cell_type": "code",
      "metadata": {
        "id": "HeAu03vAoVpe",
        "colab_type": "code",
        "colab": {}
      },
      "source": [
        ""
      ],
      "execution_count": 0,
      "outputs": []
    },
    {
      "cell_type": "markdown",
      "metadata": {
        "id": "ozkBlP0VuMQy",
        "colab_type": "text"
      },
      "source": [
        "Deepesh"
      ]
    },
    {
      "cell_type": "code",
      "metadata": {
        "id": "fYtKaR4fRzLk",
        "colab_type": "code",
        "colab": {}
      },
      "source": [
        "# -*- coding: utf-8 -*-\n",
        "\"\"\"\n",
        "Predicitve_Analytics.py\n",
        "\"\"\"\n",
        "\n",
        "\n",
        "def Accuracy(y_true,y_pred):\n",
        "  # \"\"\"\n",
        "  # :type y_true: numpy.ndarray\n",
        "  # :type y_pred: numpy.ndarray\n",
        "  # :rtype: float\n",
        "  \n",
        "  # \"\"\"\n",
        "  size=y_true.size\n",
        "  correct_pred = np.sum(y_true == y_pred)\n",
        "  \n",
        "  return correct_pred / size"
      ],
      "execution_count": 0,
      "outputs": []
    },
    {
      "cell_type": "markdown",
      "metadata": {
        "id": "ZAvAYel9uNcw",
        "colab_type": "text"
      },
      "source": [
        "Pooja"
      ]
    },
    {
      "cell_type": "code",
      "metadata": {
        "id": "U2gCHJ9ESLfo",
        "colab_type": "code",
        "outputId": "715b3e1f-933d-40bb-d6e6-afb02bd6a145",
        "colab": {
          "base_uri": "https://localhost:8080/",
          "height": 51
        }
      },
      "source": [
        "from sklearn.metrics import recall_score\n",
        "\n",
        "def Recall(y_true,y_pred):\n",
        "  classes=np.unique(y_true)\n",
        "  size=len(y_pred)\n",
        "  true_positive=0\n",
        "  false_negative=0\n",
        "  recall=0\n",
        "  for c in classes:\n",
        "    for i in range(size):\n",
        "      if y_true[i]==c and y_pred[i]==c:\n",
        "        true_positive +=1\n",
        "      if y_true[i]==c and y_pred[i]!=c:\n",
        "        false_negative +=1\n",
        "    if (true_positive==0 and false_negative==0):\n",
        "      recall=0\n",
        "    else:\n",
        "      recall+=true_positive/(true_positive+false_negative)\n",
        "  return recall/len(classes)\n",
        "result=result.astype(int)\n",
        "print(Recall(labels_test,result))\n",
        "print(recall_score(labels_test,result,average='macro'))\n",
        "    #  \"\"\"\n",
        "    # :type y_true: numpy.ndarray\n",
        "    # :type y_pred: numpy.ndarray\n",
        "    # :rtype: float\n",
        "    # \"\"\"\n",
        "\n"
      ],
      "execution_count": 0,
      "outputs": [
        {
          "output_type": "stream",
          "text": [
            "0.9787535343396627\n",
            "0.9779098872944286\n"
          ],
          "name": "stdout"
        }
      ]
    },
    {
      "cell_type": "markdown",
      "metadata": {
        "id": "lv0knvguuM8T",
        "colab_type": "text"
      },
      "source": [
        "Aditya"
      ]
    },
    {
      "cell_type": "code",
      "metadata": {
        "id": "ZGaokWloRzbM",
        "colab_type": "code",
        "outputId": "a142dc76-974e-455c-97a9-cb60dce11d78",
        "colab": {
          "base_uri": "https://localhost:8080/",
          "height": 51
        }
      },
      "source": [
        "from sklearn.metrics import precision_score\n",
        "\n",
        "def Precision(y_true,y_pred):\n",
        "  classes=np.unique(y_true)\n",
        "  size=len(y_pred)\n",
        "  true_positive=0\n",
        "  false_positive=0\n",
        "  precision=0\n",
        "  for c in classes:\n",
        "    for i in range(size):\n",
        "      if y_true[i]==c and y_pred[i]==c:\n",
        "        true_positive +=1\n",
        "      if y_true[i]!=c and y_pred[i]==c:\n",
        "        false_positive +=1\n",
        "    if (true_positive==0 and false_positive==0):\n",
        "      precision=0\n",
        "    else:\n",
        "      precision+=true_positive/(true_positive+false_positive)\n",
        "  return precision/len(classes)\n",
        "result=result.astype(int)\n",
        "\n",
        "print(Precision(labels_test,result))\n",
        "print(precision_score(labels_test,result,average='macro'))\n"
      ],
      "execution_count": 0,
      "outputs": [
        {
          "output_type": "stream",
          "text": [
            "0.9730574853928385\n",
            "0.9781589935498108\n"
          ],
          "name": "stdout"
        }
      ]
    },
    {
      "cell_type": "markdown",
      "metadata": {
        "id": "-h-nxN_JuQNZ",
        "colab_type": "text"
      },
      "source": [
        ""
      ]
    },
    {
      "cell_type": "code",
      "metadata": {
        "id": "dvl9L94WRzlV",
        "colab_type": "code",
        "colab": {}
      },
      "source": [
        "def WCSS(Clusters):\n",
        "    \"\"\"\n",
        "    :Clusters List[numpy.ndarray]\n",
        "    :rtype: float\n",
        "    \"\"\"\n",
        "    wcss_sum = 0\n",
        "    for i in range(len(Clusters)):\n",
        "        center = np.mean(Clusters[i],axis = 0)\n",
        "        dist = np.linalg.norm(Clusters[i] - center, axis = 1)\n",
        "        dist = dist ** 2\n",
        "\n",
        "        dist = np.sum(dist)\n",
        "        \n",
        "        wcss_sum += dist\n",
        "    \n",
        "    return wcss_sum"
      ],
      "execution_count": 0,
      "outputs": []
    },
    {
      "cell_type": "markdown",
      "metadata": {
        "id": "olVSVOZVuPgH",
        "colab_type": "text"
      },
      "source": [
        ""
      ]
    },
    {
      "cell_type": "code",
      "metadata": {
        "id": "72Iq823RShJf",
        "colab_type": "code",
        "outputId": "72d7f9b5-8247-4adc-ab7a-357ecf424e28",
        "colab": {
          "base_uri": "https://localhost:8080/",
          "height": 238
        }
      },
      "source": [
        "def ConfusionMatrix(y_true,y_pred):\n",
        "  unique_val=np.unique(y_true)\n",
        "  no_class = len(unique_val)\n",
        "  y_true=y_true-1\n",
        "  y_pred=y_pred-1\n",
        "\n",
        "  confusion_matrix=y_true*no_class+y_pred\n",
        "  con_matrix= np.zeros(no_class**2)\n",
        "  for i in range(len(confusion_matrix)): \n",
        "    index=confusion_matrix[i]\n",
        "    count=np.count_nonzero(confusion_matrix==(index))\n",
        "    con_matrix[index]=count\n",
        "\n",
        "  con_matrix_reshape=np.reshape(con_matrix, (no_class,no_class))\n",
        "  return con_matrix_reshape\n",
        "\n",
        "result=result.astype(int)\n",
        "print(ConfusionMatrix(labels_test,result))  \n",
        "    # \"\"\"\n",
        "    # :type y_true: numpy.ndarray\n",
        "    # :type y_pred: numpy.ndarray\n",
        "    # :rtype: float\n",
        "    # \"\"\" \n"
      ],
      "execution_count": 0,
      "outputs": [
        {
          "output_type": "stream",
          "text": [
            "(8192,)\n",
            "(8192,)\n",
            "[[709.   0.   0.   0.   0.  20.   0.   0.   0.   0.   0.]\n",
            " [  1. 712.   0.   0.   0.   0.   0.   0.   1.  24.   0.]\n",
            " [  0.   0. 705.   1.   0.   0.   0.   0.   0.   0.   0.]\n",
            " [  0.   0.   1. 732.   0.   0.   0.   0.   0.   0.   0.]\n",
            " [  1.   0.   2.   9. 706.   0.   0.   7.   0.   0.   0.]\n",
            " [  7.   0.   0.   0.   0. 758.   0.   0.   9.   0.   0.]\n",
            " [  0.   0.   0.   0.   0.   0. 775.   0.   0.   0.   0.]\n",
            " [  0.   0.   0.   3.  12.   1.   0. 730.   0.   0.   0.]\n",
            " [  3.   2.   0.   0.   0.  28.   0.   0. 728.   1.   0.]\n",
            " [  0.  50.   0.   0.   0.   0.   0.   0.   0. 724.   0.]\n",
            " [  0.   0.   0.   0.   0.   0.   0.   0.   0.   0. 730.]]\n"
          ],
          "name": "stdout"
        }
      ]
    },
    {
      "cell_type": "markdown",
      "metadata": {
        "id": "z3SGEPaDu1BJ",
        "colab_type": "text"
      },
      "source": [
        "Aditya"
      ]
    },
    {
      "cell_type": "markdown",
      "metadata": {
        "id": "jc-BfWb0uoSD",
        "colab_type": "text"
      },
      "source": [
        ""
      ]
    },
    {
      "cell_type": "markdown",
      "metadata": {
        "id": "fSj7vFyl4ESz",
        "colab_type": "text"
      },
      "source": [
        "RANDOM FOREST"
      ]
    },
    {
      "cell_type": "code",
      "metadata": {
        "id": "w35nLO-BOHje",
        "colab_type": "code",
        "colab": {}
      },
      "source": [
        "features_train=np.asarray(features_train)\n",
        "features_test=np.asarray(features_test)\n",
        "labels_train=np.asarray(labels_train)\n",
        "labels_test=np.asarray(labels_test)\n",
        "\n",
        "def gini_number(data):\n",
        "  classes=np.unique(data[:,-1]) \n",
        "  size=len(data)\n",
        " \n",
        "  score=0\n",
        "  for class_values in classes:\n",
        "    score =score + np.square(np.count_nonzero(data[:,-1]== class_values)/size)\n",
        "  gini=1-score\n",
        "  return gini\n",
        "\n",
        "\n",
        "\n",
        "  \n",
        "\n",
        "\n",
        "def information_gain(dataset):\n",
        "  # print(dataset.shape)\n",
        "  percent=[10,20,30,40,50,60,70,80,90]\n",
        "  i=-1\n",
        "  gain=-9999\n",
        "  left_data= None\n",
        "  right_data= None\n",
        "  new=[]\n",
        "  datafeatures=dataset[:,0:dataset.shape[1]-1]\n",
        "  #print(dataset.shape[1])\n",
        "  left_gini,right_gini=0,0\n",
        "  # value\n",
        "  # index_column\n",
        "  for column in datafeatures.T:\n",
        "\n",
        "    i+=1\n",
        "    # new=np.column_stack((features_train[:,i],labels_train))\n",
        "\n",
        "    n_instances=float(len(dataset))\n",
        "    if(n_instances<=1):\n",
        "      continue\n",
        "    gini_column=gini_number(dataset[:,[i,-1]])\n",
        "    for percentile in percent:\n",
        "      \n",
        "      \n",
        "      new=np.argsort(dataset[:,i])\n",
        "      split=np.percentile(dataset[:,i],percentile)\n",
        "      left=dataset[dataset[:,i]<split]\n",
        "      left_size=float(len(left))\n",
        "      right=dataset[dataset[:,i]>=split]\n",
        "      right_size=float(len(right))\n",
        "      # if(left_size > 0):\n",
        "      left_gini=gini_number(left)\n",
        "      # if (right_size > 0):\n",
        "      right_gini=gini_number(right)\n",
        "      weighted_gini=left_gini*(left_size/n_instances)+right_gini*(right_size/n_instances)\n",
        "      info_gain=gini_column-weighted_gini\n",
        "      if(info_gain>gain):\n",
        "        gain,left_data,right_data,index_column,value=info_gain,left,right,i,split\n",
        "  # print(index_column,value)\n",
        "  return {'gain':gain,'left':left_data,'right':right_data,'index':index_column,'value':value}\n",
        "\n",
        "def splitting(node,max_depth):\n",
        "  # print(type(node['left']))\n",
        "  # print(node['left'])\n",
        "  depth=10\n",
        "  minsize=2   \n",
        "  left=node['left']\n",
        "  right=node['right']\n",
        "  del(node['left'])\n",
        "  del(node['right'])\n",
        "  left_label=left[:,-1]\n",
        "  left_label=left_label.astype(int)\n",
        "  right_label=right[:,-1]\n",
        "  right_label=right_label.astype(int)\n",
        "  values=[]\n",
        "  if(len(left)==0 or len(right)==0):\n",
        "    values=np.concatenate((left,right))\n",
        "    vl=values[:,-1].astype(int)\n",
        "    final_label=np.bincount(vl).argmax()\n",
        "    node['left']=node['right']=final_label\n",
        "    # print(node['left'])\n",
        "    return\n",
        "  if(max_depth>=depth):\n",
        "    node['left']=np.bincount(left_label).argmax()\n",
        "    # print(node['left'])\n",
        "    node['right']=np.bincount(right_label).argmax()\n",
        "    # print(node['right'])\n",
        "    return\n",
        "  if(minsize>=len(left)):\n",
        "    node['left']=np.bincount(left_label).argmax()\n",
        "    # print(node['left'])\n",
        "  else:\n",
        "    node['left']=information_gain(left)\n",
        "    d=max_depth+1\n",
        "    splitting(node['left'],d)\n",
        "  if(minsize>=len(right)):\n",
        "    node['right']=np.bincount(right_label).argmax()\n",
        "    # print(node['right'])\n",
        "  else:\n",
        "    node['right']=information_gain(right)\n",
        "    d=max_depth+1\n",
        "    splitting(node['right'],d)\n",
        "  # if(minsize<=right(left)):\n",
        "  #   node[2]=np.bincount(right_label).argmax()\n",
        "\n",
        "def predictions(root,row):\n",
        "  if (row[root['index']]>root['value']):\n",
        "    if isinstance(root['right'],dict):\n",
        "      pred_val=predictions(root['right'],row)\n",
        "    else:\n",
        "      #print(root['right'])\n",
        "      pred_val=root['right']\n",
        "  else:\n",
        "    if isinstance(root['left'],dict):\n",
        "      pred_val=predictions(root['left'],row)\n",
        "    else:\n",
        "      #print(root['left'])\n",
        "      pred_val=root['left']\n",
        "  return pred_val\n",
        "\n",
        "\n",
        "def decision_tree(data,test):\n",
        "  \n",
        "  node=information_gain(data)\n",
        "  splitting(node,1)\n",
        "  #print(node)\n",
        "  test_predictions=[]\n",
        "  for row in test:\n",
        "    predicted=predictions(node,row)\n",
        "    #print(predicted)\n",
        "    test_predictions=np.append(test_predictions,predicted)\n",
        "  return test_predictions\n",
        "  # print(node)\n",
        "\n",
        "\n",
        "\n",
        "# node=information_gain(data.values)\n",
        "# decision_tree(features_train,labels_train,features_test)\n",
        "#print()\n",
        "  \n",
        "\n"
      ],
      "execution_count": 0,
      "outputs": []
    },
    {
      "cell_type": "code",
      "metadata": {
        "id": "ymwq3W5HG-XW",
        "colab_type": "code",
        "outputId": "2fadce33-7e61-4699-a991-cb0ee4a83e26",
        "colab": {
          "base_uri": "https://localhost:8080/",
          "height": 34
        }
      },
      "source": [
        "def RandomForest(X_train,Y_train,X_test):\n",
        "  X_train = (X_train-X_train.min())/(X_train.max()-X_train.min())\n",
        "  Y_train = (Y_train-Y_train.min())/(Y_train.max()-Y_train.min())\n",
        "  epochs=10\n",
        "  total_predictions=[]\n",
        "  predicted_label=[]\n",
        "  for i in range(epochs):\n",
        "    features_for_split=np.sqrt(np.size(X_train,1)) #7 features\n",
        "    #print(features_for_split)\n",
        "    index=np.arange(X_train.shape[1])\n",
        "    random_sample=np.random.choice(index,size=features_for_split.astype(int),replace=True)\n",
        "    random_features=features_train[:,random_sample]\n",
        "    #print(random_features.shape)\n",
        "    test_features=X_test[:,random_sample]\n",
        "    total_data=np.column_stack((random_features,Y_train))\n",
        "    index_bootstrap=np.arange(X_train.shape[0])\n",
        "    bootstrap_sample=np.random.choice(index_bootstrap,X_train.shape[0],replace=True)\n",
        "    \n",
        "    bootstrap_data=total_data[bootstrap_sample,:]\n",
        "    #print(bootstrap_data.shape)\n",
        "    total_predictions=np.append(total_predictions,decision_tree(bootstrap_data,test_features))\n",
        "    # print(total_predictions.shape)\n",
        "  total_predictions=total_predictions.reshape(epochs,X_test.shape[0])\n",
        "  total_predictions=total_predictions.astype(int)\n",
        "  # print(total_predictions)\n",
        "  for row in total_predictions.T:\n",
        "    predicted_label=np.append(predicted_label,np.bincount(row).argmax())\n",
        "  return predicted_label\n",
        "  \n",
        "  \n",
        "# print(labels_test.shape)\n",
        "labels_predict=RandomForest(features_train,labels_train,features_test)\n",
        "# print(labels_predict.shape)\n",
        "print(accuracy_score(labels_test,labels_predict))\n",
        "  \n",
        "    # \"\"\"\n",
        "    # :type X_train: numpy.ndarray\n",
        "    # :type X_test: numpy.ndarray\n",
        "    # :type Y_train: numpy.ndarray\n",
        "    \n",
        "    # :rtype: numpy.ndarray\n",
        "    # \"\"\""
      ],
      "execution_count": 0,
      "outputs": [
        {
          "output_type": "stream",
          "text": [
            "0.9146728515625\n"
          ],
          "name": "stdout"
        }
      ]
    },
    {
      "cell_type": "markdown",
      "metadata": {
        "id": "qAVLC1oZumja",
        "colab_type": "text"
      },
      "source": [
        "Pooja"
      ]
    },
    {
      "cell_type": "code",
      "metadata": {
        "id": "C1sd3ZLUShS-",
        "colab_type": "code",
        "outputId": "3949fa95-420c-45fa-ab8a-14ea73792fe5",
        "colab": {
          "base_uri": "https://localhost:8080/",
          "height": 136
        }
      },
      "source": [
        "def PCA(X_train,N):\n",
        "    mean_Val = np.mean(X_train)\n",
        "    X_train_mean=X_train-mean_Val\n",
        "    u,s,vh = np.linalg.svd(X_train_mean, full_matrices=False)\n",
        "    vh=vh.T\n",
        "    S=np.diag(s)\n",
        "    PCA_array = u[:, 0:N].dot(S[0:N, 0:N])\n",
        "    return PCA_array\n",
        "    # \"\"\"\n",
        "    # :type X_train: numpy.ndarray\n",
        "    # :type N: int\n",
        "    # :rtype: numpy.ndarray\n",
        "    # \"\"\""
      ],
      "execution_count": 0,
      "outputs": [
        {
          "output_type": "stream",
          "text": [
            "[[-1.80899866 -0.97319046 -0.5198029  -0.13335396  0.01226552]\n",
            " [-1.70718706 -0.75001261 -0.23565801 -0.06914143 -0.0288503 ]\n",
            " [-1.75438486  0.08561008  0.1374438   0.12996271  0.04488621]\n",
            " ...\n",
            " [-1.91909963  0.70648457 -0.17498945  0.00307458 -0.14257381]\n",
            " [-1.72978258 -0.47746372  0.06421288  0.1703747   0.10250725]\n",
            " [-1.89899469  0.20191737 -0.23136465  0.08107682  0.05495291]]\n"
          ],
          "name": "stdout"
        }
      ]
    },
    {
      "cell_type": "markdown",
      "metadata": {
        "id": "tJiGKVrFusad",
        "colab_type": "text"
      },
      "source": [
        "Deepesh"
      ]
    },
    {
      "cell_type": "code",
      "metadata": {
        "id": "xWghtJJzShVo",
        "colab_type": "code",
        "colab": {}
      },
      "source": [
        "def Kmeans(X_train,N):\n",
        "    \"\"\"\n",
        "    :type X_train: numpy.ndarray\n",
        "    :type N: int\n",
        "    :rtype: List[numpy.ndarray]\n",
        "    \"\"\"\n",
        "    X_train = (X_train-X_train.min())/(X_train.max()-X_train.min())\n",
        "    \n",
        "    num_rows = X_train.shape[0]\n",
        "    indexes = np.random.choice(num_rows, size=N, replace=False)\n",
        "    \n",
        "    centers = X_train[indexes, :]\n",
        "    #centers = X_train.sample(n = N)\n",
        "    #X_train = X_train.to_numpy()\n",
        "    #centers = centers.to_numpy()\n",
        "    centers_prev = np.zeros(centers.shape)\n",
        "\n",
        "    while(not np.array_equal(centers,centers_prev)):\n",
        "        cluster_distance = np.zeros((N, len(X_train)))\n",
        "        #print(type(cluster_distance))\n",
        "        centers_prev = np.copy(centers)\n",
        "        for i in range(len(centers)):\n",
        "            c = centers[i].reshape(1,len(centers[0]))\n",
        "            #cluster_distance[i,:] = np.sqrt(np.sum(((X_train - c) ** 2),axis = 1))\n",
        "            cluster_distance[i,:] = np.linalg.norm(X_train - c, axis = 1)\n",
        "        min_index = np.argmin(cluster_distance,axis=0)\n",
        "\n",
        "        #print(min_index)\n",
        "        for i in range(len(centers)):\n",
        "            centers[i] = np.mean(X_train[np.where(min_index == i)],axis = 0)\n",
        "        #print(centers)\n",
        "        \n",
        "        #print(not np.array_equal(centers_prev,centers))\n",
        "    print(centers)\n",
        "    min_index = min_index + 1\n",
        "    #print(np.unique(min_index))\n",
        "    #print(min_index.shape)\n",
        "    return min_index"
      ],
      "execution_count": 0,
      "outputs": []
    },
    {
      "cell_type": "code",
      "metadata": {
        "id": "vvGKrFWU9Vyy",
        "colab_type": "code",
        "colab": {}
      },
      "source": [
        "from sklearn.linear_model import LogisticRegression\n",
        "from sklearn import tree\n",
        "from sklearn.ensemble import VotingClassifier\n",
        "from sklearn.model_selection import train_test_split\n",
        "from sklearn.neighbors import KNeighborsClassifier\n",
        "from sklearn.svm import SVC\n",
        "from sklearn.preprocessing import MinMaxScaler"
      ],
      "execution_count": 0,
      "outputs": []
    },
    {
      "cell_type": "code",
      "metadata": {
        "id": "ZBr8HQ-L9prH",
        "colab_type": "code",
        "colab": {
          "base_uri": "https://localhost:8080/",
          "height": 85
        },
        "outputId": "7eea2d6c-858d-46a1-ef6a-eb7b8e2f7543"
      },
      "source": [
        "data_train, data_test = train_test_split(data, train_size=0.8, test_size=0.2, random_state=7)\n",
        "\n",
        "X_train = data_train.iloc[:,:-1].to_numpy()\n",
        "Y_train = data_train.iloc[:,-1].to_numpy()\n",
        "\n",
        "X_test = data_test.iloc[:,:-1].to_numpy()\n",
        "Y_test = data_test.iloc[:,-1].to_numpy()\n",
        "\n",
        "print(X_train.shape)\n",
        "print(Y_train.shape)\n",
        "print(X_test.shape)\n",
        "print(Y_test.shape)"
      ],
      "execution_count": 5,
      "outputs": [
        {
          "output_type": "stream",
          "text": [
            "(32764, 48)\n",
            "(32764,)\n",
            "(8192, 48)\n",
            "(8192,)\n"
          ],
          "name": "stdout"
        }
      ]
    },
    {
      "cell_type": "code",
      "metadata": {
        "id": "LYY0dfH9wHEu",
        "colab_type": "code",
        "outputId": "68cfa39c-fe99-42ba-ce5c-b476620898f5",
        "colab": {
          "base_uri": "https://localhost:8080/",
          "height": 289
        }
      },
      "source": [
        "SklearnSupervisedLearning(features_train,labels_train,features_test,labels_test)"
      ],
      "execution_count": 0,
      "outputs": [
        {
          "output_type": "stream",
          "text": [
            "/usr/local/lib/python3.6/dist-packages/sklearn/linear_model/_logistic.py:940: ConvergenceWarning: lbfgs failed to converge (status=1):\n",
            "STOP: TOTAL NO. of ITERATIONS REACHED LIMIT.\n",
            "\n",
            "Increase the number of iterations (max_iter) or scale the data as shown in:\n",
            "    https://scikit-learn.org/stable/modules/preprocessing.html\n",
            "Please also refer to the documentation for alternative solver options:\n",
            "    https://scikit-learn.org/stable/modules/linear_model.html#logistic-regression\n",
            "  extra_warning_msg=_LOGISTIC_SOLVER_CONVERGENCE_MSG)\n"
          ],
          "name": "stderr"
        },
        {
          "output_type": "stream",
          "text": [
            "0.85791015625\n",
            "0.893310546875\n",
            "0.98681640625\n",
            "0.980712890625\n"
          ],
          "name": "stdout"
        },
        {
          "output_type": "execute_result",
          "data": {
            "text/plain": [
              "(array([ 9, 10,  1, ...,  6,  1, 11]),\n",
              " array([ 9, 10,  1, ...,  6,  1, 11]),\n",
              " array([ 9, 10,  1, ...,  6,  1, 11]),\n",
              " array([ 9, 10,  1, ...,  6,  1, 11]))"
            ]
          },
          "metadata": {
            "tags": []
          },
          "execution_count": 32
        }
      ]
    },
    {
      "cell_type": "code",
      "metadata": {
        "id": "2rBr8-KCRzt2",
        "colab_type": "code",
        "colab": {}
      },
      "source": [
        "def SklearnSupervisedLearning(X_train,Y_train,X_test,Y_test):\n",
        "    \"\"\"\n",
        "    :type X_train: numpy.ndarray\n",
        "    :type X_test: numpy.ndarray\n",
        "    :type Y_train: numpy.ndarray\n",
        "    \n",
        "    :rtype: List[numpy.ndarray] \n",
        "    \"\"\"\n",
        "    classifier = MyLogisticRegression(X_train,Y_train)\n",
        "    log_regr_y_pred = classifier.predict(X_test)\n",
        "    print(\"Accuracy of Logistic Regression: \"+Accuracy(Y_test,log_regr_y_pred))\n",
        "\n",
        "    classifier = MySVClassifier(X_train,Y_train)\n",
        "    svm_y_pred = classifier.predict(X_test)\n",
        "    print(\"Accuracy of SVM: \"+Accuracy(Y_test,svm_y_pred))\n",
        "\n",
        "    classifier = MyKNNClassifier(X_train,Y_train)\n",
        "    knn_y_pred = classifier.predict(X_test)\n",
        "    print(\"Accuracy of KNN: \"+Accuracy(Y_test,knn_y_pred))\n",
        "\n",
        "    classifier = MyDTClassifier(X_train,Y_train)\n",
        "    DT_y_pred = classifier.predict(X_test)\n",
        "    print(\"Accuracy of Decision Tree: \"+Accuracy(Y_test,DT_y_pred))\n",
        "\n",
        "    return log_regr_y_pred,svm_y_pred,knn_y_pred,DT_y_pred\n"
      ],
      "execution_count": 0,
      "outputs": []
    },
    {
      "cell_type": "code",
      "metadata": {
        "id": "CfjcmSSl6Y_a",
        "colab_type": "code",
        "colab": {}
      },
      "source": [
        "def MyLogisticRegression(X_train,Y_train): #85.8% \n",
        "    logistic_regr = LogisticRegression(multi_class = 'multinomial', solver = 'lbfgs')\n",
        "    logistic_regr.fit(X_train,Y_train)\n",
        "    return logistic_regr\n",
        "    \n",
        "def MyKNNClassifier(X_train,Y_train): #98.4%\n",
        "    knn = KNeighborsClassifier(n_neighbors = 11, weights='uniform')\n",
        "    knn.fit(X_train,Y_train)\n",
        "    return knn\n",
        "\n",
        "def MyDTClassifier(X_train,Y_train): #98.2%\n",
        "    classifier = tree.DecisionTreeClassifier()\n",
        "    classifier = classifier.fit(X_train,Y_train)\n",
        "    return classifier\n",
        "\n",
        "def MySVClassifier(X_train,Y_train): #90.1%\n",
        "    svclassifier = SVC(kernel = 'linear')\n",
        "    svclassifier.fit(X_train,Y_train)\n",
        "    return svclassifier"
      ],
      "execution_count": 0,
      "outputs": []
    },
    {
      "cell_type": "code",
      "metadata": {
        "id": "N4qkwUAORz2W",
        "colab_type": "code",
        "colab": {}
      },
      "source": [
        "def SklearnVotingClassifier(X_train,Y_train,X_test,Y_test):\n",
        "    \n",
        "    \"\"\"\n",
        "    :type X_train: numpy.ndarray\n",
        "    :type X_test: numpy.ndarray\n",
        "    :type Y_train: numpy.ndarray\n",
        "    \n",
        "    :rtype: List[numpy.ndarray] \n",
        "    \"\"\"\n",
        "    logistic_regr = MyLogisticRegression(X_train,Y_train)\n",
        "    knn = MyKNNClassifier(X_train,Y_train)\n",
        "    svclassifier = MySVClassifier(X_train,Y_train)\n",
        "    DTclassifier = MyDTClassifier(X_train,Y_train)\n",
        "    \n",
        "    models = [('logisitc_regr',logistic_regr),('knn',knn),('svclassifier',svclassifier),('DecisionTree',DTclassifier)]\n",
        "    ensemble = VotingClassifier(models,voting = 'hard')\n",
        "    ensemble.fit(X_train,Y_train)\n",
        "    y_pred = ensemble.predict(X_test)\n",
        "    print(Accuracy(Y_test,y_pred))\n",
        "    return y_pred\n",
        "\n",
        "\n",
        "\"\"\"\n",
        "Create your own custom functions for Matplotlib visualization of hyperparameter search. \n",
        "Make sure that plots are labeled and proper legends are used\n",
        "\"\"\""
      ],
      "execution_count": 0,
      "outputs": []
    },
    {
      "cell_type": "markdown",
      "metadata": {
        "id": "lTHztVKXaitf",
        "colab_type": "text"
      },
      "source": [
        "GRID SEARCH OF HYPERPARAMETERS"
      ]
    },
    {
      "cell_type": "code",
      "metadata": {
        "id": "UxsMoGGvw47-",
        "colab_type": "code",
        "colab": {
          "base_uri": "https://localhost:8080/",
          "height": 297
        },
        "outputId": "ea7687d9-1432-41db-e1ba-65a5cff2f385"
      },
      "source": [
        "from sklearn.model_selection import GridSearchCV\n",
        "def KNeighboursClassifier_grid(features_train,features_test,labels_train,labels_test):\n",
        "  knn_grid = KNeighborsClassifier()\n",
        "  knn_grid_dict={'n_neighbors':[5,6,11],\n",
        "                'algorithm':['auto','ball_tree']}\n",
        "  knn_grid_search = GridSearchCV(estimator=knn_grid,\n",
        "                      param_grid=knn_grid_dict,\n",
        "                      scoring='accuracy',\n",
        "                      )\n",
        "  knn_grid_search.fit(features_train,labels_train)\n",
        "  Y_predict=knn_grid_search.predict(features_test)\n",
        "  params = knn_grid_search.cv_results_['params']\n",
        "  num_neighbors = []\n",
        "  for p in params:\n",
        "    num_neighbors.append(p['n_neighbors'])\n",
        "  print(num_neighbors)\n",
        "  KNN_Accuracy=pd.DataFrame(knn_grid_search.cv_results_,columns=['mean_test_score'])\n",
        "  plt.plot(num_neighbors,KNN_Accuracy)\n",
        "  plt.xlabel('n_neighbours')\n",
        "  plt.ylabel('Accuracy')\n",
        "\n",
        "  plt.show\n",
        "KNeighboursClassifier_grid(features_train,features_test,labels_train,labels_test)\n"
      ],
      "execution_count": 13,
      "outputs": [
        {
          "output_type": "stream",
          "text": [
            "[5, 6, 11, 5, 6, 11]\n"
          ],
          "name": "stdout"
        },
        {
          "output_type": "display_data",
          "data": {
            "image/png": "[encoded data removed]",
            "text/plain": [
              "<Figure size 432x288 with 1 Axes>"
            ]
          },
          "metadata": {
            "tags": []
          }
        }
      ]
    },
    {
      "cell_type": "code",
      "metadata": {
        "id": "q68cbvqd8N-a",
        "colab_type": "code",
        "colab": {
          "base_uri": "https://localhost:8080/",
          "height": 296
        },
        "outputId": "3ff5fce0-060e-436a-acb1-8494c1e92fa1"
      },
      "source": [
        "def Decision_tree_Classifier_grid(features_train,features_test,labels_train,labels_test):\n",
        "  classifier_grid= tree.DecisionTreeClassifier()\n",
        "  decision_tree_dict={'max_depth':[5,8,10],\n",
        "                'criterion':['gini','entropy'],\n",
        "                'min_samples_split':[2,4]}\n",
        "  decision_tree_search = GridSearchCV(estimator=classifier_grid,\n",
        "                      param_grid=decision_tree_dict,\n",
        "                      scoring='accuracy',\n",
        "                      )\n",
        "  decision_tree_search.fit(features_train,labels_train)\n",
        "  Y_predict_decision=decision_tree_search.predict(features_test)\n",
        "  # print(\"Accuracy :\"+ Accuracy(labels_test,Y_predict))\n",
        "\n",
        "  params = decision_tree_search.cv_results_['params']\n",
        "  max_depth = []\n",
        "  for p in params:\n",
        "    max_depth.append(p['max_depth'])\n",
        "  Decision_Accuracy=pd.DataFrame(decision_tree_search.cv_results_,columns=['mean_test_score'])\n",
        "  plt.plot(max_depth,Decision_Accuracy)\n",
        "  plt.xlabel('max_depth')\n",
        "  plt.ylabel('Accuracy')\n",
        "  plt.title(\"Decision Tree Classifier Grid Search\")\n",
        "  plt.show\n",
        "Decision_tree_Classifier_grid(features_train,features_test,labels_train,labels_test)"
      ],
      "execution_count": 16,
      "outputs": [
        {
          "output_type": "display_data",
          "data": {
            "image/png": "[encoded data removed]",
            "text/plain": [
              "<Figure size 432x288 with 1 Axes>"
            ]
          },
          "metadata": {
            "tags": []
          }
        }
      ]
    },
    {
      "cell_type": "code",
      "metadata": {
        "id": "B37j-JIaGh9E",
        "colab_type": "code",
        "colab": {
          "base_uri": "https://localhost:8080/",
          "height": 295
        },
        "outputId": "a18ca60d-811e-4e9b-ad1d-10a43fa007d3"
      },
      "source": [
        "def SVClassifier_grid(features_train,features_test,labels_train,labels_test):\n",
        "\n",
        "  svclassifier_grid = SVC()\n",
        "  svm_dict={'gamma':['scale','auto'],\n",
        "                'degree':[1,4,5],\n",
        "                'kernel':['linear']}\n",
        "  svm_search = GridSearchCV(estimator=svclassifier_grid,\n",
        "                      param_grid=svm_dict,\n",
        "                      scoring='accuracy',\n",
        "                      )\n",
        "  svm_search.fit(features_train,labels_train)\n",
        "  Y_predict_svm=svm_search.predict(features_test)\n",
        "  # print(\"Accuracy :\"+ Accuracy(labels_test,Y_predict))\n",
        "  params = svm_search.cv_results_['params']\n",
        "  degree = []\n",
        "  for p in params:\n",
        "    degree.append(p['degree'])\n",
        "  SVM_Accuracy=pd.DataFrame(svm_search.cv_results_,columns=['mean_test_score'])\n",
        "  plt.plot(degree,SVM_Accuracy)\n",
        "  plt.xlabel('degree')\n",
        "  plt.ylabel('Accuracy')\n",
        "  plt.title(\"SVM Classifier Grid Search\")\n",
        "  plt.show\n",
        "SVClassifier_grid(features_train,features_test,labels_train,labels_test)"
      ],
      "execution_count": 17,
      "outputs": [
        {
          "output_type": "display_data",
          "data": {
            "image/png": "[encoded data removed]",
            "text/plain": [
              "<Figure size 432x288 with 1 Axes>"
            ]
          },
          "metadata": {
            "tags": []
          }
        }
      ]
    },
    {
      "cell_type": "code",
      "metadata": {
        "id": "NHyYnZpLR-Nx",
        "colab_type": "code",
        "colab": {}
      },
      "source": [
        ""
      ],
      "execution_count": 0,
      "outputs": []
    },
    {
      "cell_type": "code",
      "metadata": {
        "id": "W4GjvuGGMZ26",
        "colab_type": "code",
        "colab": {
          "base_uri": "https://localhost:8080/",
          "height": 1000
        },
        "outputId": "66c54c35-fd9e-418c-b3ae-4f18892a5a47"
      },
      "source": [
        "def Logistic_Regression_grid(features_train,features_test,labels_train,labels_test):\n",
        "  logistic_regr_grid = LogisticRegression()\n",
        "  logistic_dict={'solver': ['newton-cg', 'lbfgs','sag', 'saga'],\n",
        "                  'multi_class':['multinomial']}\n",
        "  logistic_search = GridSearchCV(estimator=logistic_regr_grid,\n",
        "                      param_grid=logistic_dict,\n",
        "                      scoring='accuracy',\n",
        "                      )\n",
        "  logistic_search.fit(features_train,labels_train)\n",
        "  Y_predict_logistic=logistic_search.predict(features_test)\n",
        "  # print(\"Accuracy :\"+ Accuracy(labels_test,Y_predict))\n",
        "  print(logistic_search.cv_results_)\n",
        "  params = logistic_search.cv_results_['params']\n",
        "  solver = []\n",
        "  for p in params:\n",
        "    solver.append(p['solver'])\n",
        "  logistic_Accuracy=pd.DataFrame(logistic_search.cv_results_,columns=['mean_test_score'])\n",
        "  plt.plot(solver,logistic_Accuracy)\n",
        "  plt.xlabel('solver')\n",
        "  plt.ylabel('Accuracy')\n",
        "  plt.title('Logistic regression Grid Search')\n",
        "  plt.show\n",
        "Logistic_Regression_grid(features_train,features_test,labels_train,labels_test)"
      ],
      "execution_count": 93,
      "outputs": [
        {
          "output_type": "stream",
          "text": [
            "/usr/local/lib/python3.6/dist-packages/sklearn/linear_model/_logistic.py:940: ConvergenceWarning: lbfgs failed to converge (status=1):\n",
            "STOP: TOTAL NO. of ITERATIONS REACHED LIMIT.\n",
            "\n",
            "Increase the number of iterations (max_iter) or scale the data as shown in:\n",
            "    https://scikit-learn.org/stable/modules/preprocessing.html\n",
            "Please also refer to the documentation for alternative solver options:\n",
            "    https://scikit-learn.org/stable/modules/linear_model.html#logistic-regression\n",
            "  extra_warning_msg=_LOGISTIC_SOLVER_CONVERGENCE_MSG)\n",
            "/usr/local/lib/python3.6/dist-packages/sklearn/linear_model/_logistic.py:940: ConvergenceWarning: lbfgs failed to converge (status=1):\n",
            "STOP: TOTAL NO. of ITERATIONS REACHED LIMIT.\n",
            "\n",
            "Increase the number of iterations (max_iter) or scale the data as shown in:\n",
            "    https://scikit-learn.org/stable/modules/preprocessing.html\n",
            "Please also refer to the documentation for alternative solver options:\n",
            "    https://scikit-learn.org/stable/modules/linear_model.html#logistic-regression\n",
            "  extra_warning_msg=_LOGISTIC_SOLVER_CONVERGENCE_MSG)\n",
            "/usr/local/lib/python3.6/dist-packages/sklearn/linear_model/_logistic.py:940: ConvergenceWarning: lbfgs failed to converge (status=1):\n",
            "STOP: TOTAL NO. of ITERATIONS REACHED LIMIT.\n",
            "\n",
            "Increase the number of iterations (max_iter) or scale the data as shown in:\n",
            "    https://scikit-learn.org/stable/modules/preprocessing.html\n",
            "Please also refer to the documentation for alternative solver options:\n",
            "    https://scikit-learn.org/stable/modules/linear_model.html#logistic-regression\n",
            "  extra_warning_msg=_LOGISTIC_SOLVER_CONVERGENCE_MSG)\n",
            "/usr/local/lib/python3.6/dist-packages/sklearn/linear_model/_logistic.py:940: ConvergenceWarning: lbfgs failed to converge (status=1):\n",
            "STOP: TOTAL NO. of ITERATIONS REACHED LIMIT.\n",
            "\n",
            "Increase the number of iterations (max_iter) or scale the data as shown in:\n",
            "    https://scikit-learn.org/stable/modules/preprocessing.html\n",
            "Please also refer to the documentation for alternative solver options:\n",
            "    https://scikit-learn.org/stable/modules/linear_model.html#logistic-regression\n",
            "  extra_warning_msg=_LOGISTIC_SOLVER_CONVERGENCE_MSG)\n",
            "/usr/local/lib/python3.6/dist-packages/sklearn/linear_model/_logistic.py:940: ConvergenceWarning: lbfgs failed to converge (status=1):\n",
            "STOP: TOTAL NO. of ITERATIONS REACHED LIMIT.\n",
            "\n",
            "Increase the number of iterations (max_iter) or scale the data as shown in:\n",
            "    https://scikit-learn.org/stable/modules/preprocessing.html\n",
            "Please also refer to the documentation for alternative solver options:\n",
            "    https://scikit-learn.org/stable/modules/linear_model.html#logistic-regression\n",
            "  extra_warning_msg=_LOGISTIC_SOLVER_CONVERGENCE_MSG)\n",
            "/usr/local/lib/python3.6/dist-packages/sklearn/linear_model/_sag.py:330: ConvergenceWarning: The max_iter was reached which means the coef_ did not converge\n",
            "  \"the coef_ did not converge\", ConvergenceWarning)\n",
            "/usr/local/lib/python3.6/dist-packages/sklearn/linear_model/_sag.py:330: ConvergenceWarning: The max_iter was reached which means the coef_ did not converge\n",
            "  \"the coef_ did not converge\", ConvergenceWarning)\n",
            "/usr/local/lib/python3.6/dist-packages/sklearn/linear_model/_sag.py:330: ConvergenceWarning: The max_iter was reached which means the coef_ did not converge\n",
            "  \"the coef_ did not converge\", ConvergenceWarning)\n",
            "/usr/local/lib/python3.6/dist-packages/sklearn/linear_model/_sag.py:330: ConvergenceWarning: The max_iter was reached which means the coef_ did not converge\n",
            "  \"the coef_ did not converge\", ConvergenceWarning)\n",
            "/usr/local/lib/python3.6/dist-packages/sklearn/linear_model/_sag.py:330: ConvergenceWarning: The max_iter was reached which means the coef_ did not converge\n",
            "  \"the coef_ did not converge\", ConvergenceWarning)\n",
            "/usr/local/lib/python3.6/dist-packages/sklearn/linear_model/_sag.py:330: ConvergenceWarning: The max_iter was reached which means the coef_ did not converge\n",
            "  \"the coef_ did not converge\", ConvergenceWarning)\n",
            "/usr/local/lib/python3.6/dist-packages/sklearn/linear_model/_sag.py:330: ConvergenceWarning: The max_iter was reached which means the coef_ did not converge\n",
            "  \"the coef_ did not converge\", ConvergenceWarning)\n",
            "/usr/local/lib/python3.6/dist-packages/sklearn/linear_model/_sag.py:330: ConvergenceWarning: The max_iter was reached which means the coef_ did not converge\n",
            "  \"the coef_ did not converge\", ConvergenceWarning)\n",
            "/usr/local/lib/python3.6/dist-packages/sklearn/linear_model/_sag.py:330: ConvergenceWarning: The max_iter was reached which means the coef_ did not converge\n",
            "  \"the coef_ did not converge\", ConvergenceWarning)\n",
            "/usr/local/lib/python3.6/dist-packages/sklearn/linear_model/_sag.py:330: ConvergenceWarning: The max_iter was reached which means the coef_ did not converge\n",
            "  \"the coef_ did not converge\", ConvergenceWarning)\n"
          ],
          "name": "stderr"
        },
        {
          "output_type": "stream",
          "text": [
            "{'mean_fit_time': array([9.28645592, 3.85437951, 8.40632396, 9.79556551]), 'std_fit_time': array([0.33153624, 0.07998274, 0.04994897, 0.0513949 ]), 'mean_score_time': array([0.00266976, 0.00259233, 0.00392647, 0.00302787]), 'std_score_time': array([2.52097740e-04, 9.05067827e-05, 9.56714747e-04, 3.41540033e-04]), 'param_multi_class': masked_array(data=['multinomial', 'multinomial', 'multinomial',\n",
            "                   'multinomial'],\n",
            "             mask=[False, False, False, False],\n",
            "       fill_value='?',\n",
            "            dtype=object), 'param_solver': masked_array(data=['newton-cg', 'lbfgs', 'sag', 'saga'],\n",
            "             mask=[False, False, False, False],\n",
            "       fill_value='?',\n",
            "            dtype=object), 'params': [{'multi_class': 'multinomial', 'solver': 'newton-cg'}, {'multi_class': 'multinomial', 'solver': 'lbfgs'}, {'multi_class': 'multinomial', 'solver': 'sag'}, {'multi_class': 'multinomial', 'solver': 'saga'}], 'split0_test_score': array([0.8687624 , 0.85396002, 0.86830459, 0.86830459]), 'split1_test_score': array([0.87273005, 0.85106058, 0.87303525, 0.87273005]), 'split2_test_score': array([0.8766977 , 0.85670685, 0.87639249, 0.8768503 ]), 'split3_test_score': array([0.86677857, 0.85136579, 0.86677857, 0.86647337]), 'split4_test_score': array([0.86752137, 0.86050061, 0.86736874, 0.86797924]), 'mean_test_score': array([0.87049802, 0.85471877, 0.87037593, 0.87046751]), 'std_test_score': array([0.0037182 , 0.00353787, 0.00372949, 0.00381266]), 'rank_test_score': array([1, 4, 3, 2], dtype=int32)}\n"
          ],
          "name": "stdout"
        },
        {
          "output_type": "display_data",
          "data": {
            "image/png": "[encoded data removed]",
            "text/plain": [
              "<Figure size 432x288 with 1 Axes>"
            ]
          },
          "metadata": {
            "tags": []
          }
        }
      ]
    }
  ]
}